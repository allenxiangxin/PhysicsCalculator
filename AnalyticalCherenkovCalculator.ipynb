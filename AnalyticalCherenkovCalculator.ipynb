{
 "cells": [
  {
   "cell_type": "code",
   "execution_count": 1,
   "metadata": {},
   "outputs": [],
   "source": [
    "import numpy as np\n",
    "import matplotlib.pyplot as plt"
   ]
  },
  {
   "cell_type": "code",
   "execution_count": 13,
   "metadata": {},
   "outputs": [],
   "source": [
    "def get_muon_flux(p, theta, location='japan'):\n",
    "    \"\"\"\n",
    "    Get muon flux at a specific momentum, zenith angle. \n",
    "    Eqn Ref: https://arxiv.org/pdf/1606.06907.pdf\n",
    "    \n",
    "    Args:\n",
    "        p: Momentum n GeV/c\n",
    "        theta: zenith angle\n",
    "        location: location of muon data measured\n",
    "    Return:\n",
    "        Flux  1/(m2 sec sr)/(GeV/c)\n",
    "    \"\"\"\n",
    "    \n",
    "    eps_pi = 115\n",
    "    eps_K = 850\n",
    "    E_mu0 = 105.7/1000 # GeV\n",
    "    E_mu= np.sqrt(np.square(p) + np.square(E_mu0))\n",
    "    return 1400*np.power(E_mu, -2.7)*(1/(1+1.1*p*np.cos(theta)/eps_pi) + 0.054/(1+1.1*p*np.cos(theta)/eps_K))\n",
    "    \n",
    "    \n",
    "def get_muon_flux_v2(E, data_ref='Tsukuba'):\n",
    "    if data_ref=='Tsukuba':\n",
    "        # E>0.5 GeV\n",
    "        I0=70.7\n",
    "        n=3.01 # =-0.01\n",
    "        E0=4.29\n",
    "        eps=854\n",
    "        N=1\n",
    "    return I0*N*np.power(E0+E, -n)*np.power(1+E/eps, -1)\n",
    "\n",
    "\n",
    "def muon_flux_Gasser_Tang():\n",
    "    "
   ]
  },
  {
   "cell_type": "code",
   "execution_count": 27,
   "metadata": {},
   "outputs": [
    {
     "data": {
      "text/plain": [
       "18.28570754412273"
      ]
     },
     "execution_count": 27,
     "metadata": {},
     "output_type": "execute_result"
    }
   ],
   "source": [
    "x = np.logspace(0, 4, 100)\n",
    "f_mu = get_muon_flux(x, theta=0)\n",
    "\n",
    "get_muon_flux(5, 0)"
   ]
  },
  {
   "cell_type": "code",
   "execution_count": 25,
   "metadata": {},
   "outputs": [
    {
     "data": {
      "image/png": "[encoded data removed]",
      "text/plain": [
       "<Figure size 360x360 with 1 Axes>"
      ]
     },
     "metadata": {
      "needs_background": "light"
     },
     "output_type": "display_data"
    }
   ],
   "source": [
    "plt.figure(figsize=[5,5])\n",
    "plt.plot(x, f_mu)\n",
    "plt.xscale('log')\n",
    "plt.yscale('log')"
   ]
  },
  {
   "cell_type": "code",
   "execution_count": 28,
   "metadata": {},
   "outputs": [
    {
     "data": {
      "text/plain": [
       "0.46914770582977994"
      ]
     },
     "execution_count": 28,
     "metadata": {},
     "output_type": "execute_result"
    }
   ],
   "source": [
    "\n",
    "get_muon_flux_v2(1)\n"
   ]
  },
  {
   "cell_type": "code",
   "execution_count": null,
   "metadata": {},
   "outputs": [],
   "source": []
  }
 ],
 "metadata": {
  "kernelspec": {
   "display_name": "Python 3",
   "language": "python",
   "name": "python3"
  },
  "language_info": {
   "codemirror_mode": {
    "name": "ipython",
    "version": 3
   },
   "file_extension": ".py",
   "mimetype": "text/x-python",
   "name": "python",
   "nbconvert_exporter": "python",
   "pygments_lexer": "ipython3",
   "version": "3.8.3"
  }
 },
 "nbformat": 4,
 "nbformat_minor": 4
}
